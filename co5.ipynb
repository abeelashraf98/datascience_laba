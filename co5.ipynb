{
  "nbformat": 4,
  "nbformat_minor": 0,
  "metadata": {
    "colab": {
      "name": "co5.ipynb",
      "provenance": [],
      "collapsed_sections": [],
      "include_colab_link": true
    },
    "kernelspec": {
      "name": "python3",
      "display_name": "Python 3"
    },
    "language_info": {
      "name": "python"
    }
  },
  "cells": [
    {
      "cell_type": "markdown",
      "metadata": {
        "id": "view-in-github",
        "colab_type": "text"
      },
      "source": [
        "<a href=\"https://colab.research.google.com/github/abeelashraf98/datascience_laba/blob/main/co5.ipynb\" target=\"_parent\"><img src=\"https://colab.research.google.com/assets/colab-badge.svg\" alt=\"Open In Colab\"/></a>"
      ]
    },
    {
      "cell_type": "markdown",
      "source": [
        ""
      ],
      "metadata": {
        "id": "VLVgJJiGjNc0"
      }
    },
    {
      "cell_type": "code",
      "source": [
        ""
      ],
      "metadata": {
        "id": "l-lgcgxOjM60"
      },
      "execution_count": null,
      "outputs": []
    },
    {
      "cell_type": "markdown",
      "source": [
        "Importing Necessary Libraries"
      ],
      "metadata": {
        "id": "KW0nPjYfht5t"
      }
    },
    {
      "cell_type": "code",
      "execution_count": null,
      "metadata": {
        "id": "eoaqru1BouMK",
        "colab": {
          "base_uri": "https://localhost:8080/"
        },
        "outputId": "f1057a1c-d67a-41cb-9c4a-cd38abcf5ae4"
      },
      "outputs": [
        {
          "output_type": "stream",
          "name": "stdout",
          "text": [
            "Downloading data from https://storage.googleapis.com/tensorflow/tf-keras-datasets/mnist.npz\n",
            "11493376/11490434 [==============================] - 0s 0us/step\n",
            "11501568/11490434 [==============================] - 0s 0us/step\n"
          ]
        }
      ],
      "source": [
        "import tensorflow as tf\n",
        "from tensorflow import keras\n",
        "import matplotlib.pyplot as plt\n",
        "import numpy as np\n",
        "\n",
        "#load MNIST dataset available in Keras library\n",
        "(X_train, y_train) , (X_test, y_test) = keras.datasets.mnist.load_data()"
      ]
    },
    {
      "cell_type": "markdown",
      "source": [
        "# To Know No. of Examples in Training Dataset"
      ],
      "metadata": {
        "id": "u1eBsb2MlhWe"
      }
    },
    {
      "cell_type": "code",
      "source": [
        "# No. of examples in train dataset\n",
        "print(len(X_train))\n",
        "# No. of examples in test dataset\n",
        "print(len(X_test))"
      ],
      "metadata": {
        "id": "HPLzCAJfpJbF",
        "colab": {
          "base_uri": "https://localhost:8080/"
        },
        "outputId": "a758aace-5951-4a2d-d955-4c50a44fa01a"
      },
      "execution_count": null,
      "outputs": [
        {
          "output_type": "stream",
          "name": "stdout",
          "text": [
            "60000\n",
            "10000\n"
          ]
        }
      ]
    },
    {
      "cell_type": "code",
      "source": [
        "# Give details of an image in the dataset\n",
        "X_train[0].shape"
      ],
      "metadata": {
        "id": "6SPP1mD8pVph",
        "colab": {
          "base_uri": "https://localhost:8080/"
        },
        "outputId": "145cf638-2a39-459c-e88f-dfcaf86d2e1f"
      },
      "execution_count": null,
      "outputs": [
        {
          "output_type": "execute_result",
          "data": {
            "text/plain": [
              "(28, 28)"
            ]
          },
          "metadata": {},
          "execution_count": 3
        }
      ]
    },
    {
      "cell_type": "code",
      "source": [
        "import matplotlib.pyplot as plt\n",
        "#matshow() function OR imshow() function is used to represent an array as a matrix in a new figure window. \n",
        "#plt.matshow(X_train[0]) OR plt.imshow(X_train[2])\n",
        "plt.matshow(X_train[2]) \n",
        "\n"
      ],
      "metadata": {
        "id": "86UK-OJPr2VB",
        "colab": {
          "base_uri": "https://localhost:8080/",
          "height": 292
        },
        "outputId": "9e657da6-cea7-4e8e-f214-dd658dbe46f6"
      },
      "execution_count": null,
      "outputs": [
        {
          "output_type": "execute_result",
          "data": {
            "text/plain": [
              "<matplotlib.image.AxesImage at 0x7f8fc6c8abd0>"
            ]
          },
          "metadata": {},
          "execution_count": 4
        },
        {
          "output_type": "display_data",
          "data": {
            "image/png": "[encoded data removed]",
            "text/plain": [
              "<Figure size 288x288 with 1 Axes>"
            ]
          },
          "metadata": {
            "needs_background": "light"
          }
        }
      ]
    },
    {
      "cell_type": "code",
      "source": [
        "#  Scale the values in Xtrain & Xtest \n",
        "X_train=X_train/255\n",
        "X_test=X_test/255\n",
        "# Display the length of X_train\n",
        "print(len(X_train))\n",
        "print(len(X_test))"
      ],
      "metadata": {
        "id": "rhAy9LVFqNS0",
        "colab": {
          "base_uri": "https://localhost:8080/"
        },
        "outputId": "6b566817-b77c-48c5-ed9f-cd1cb3dc1b23"
      },
      "execution_count": null,
      "outputs": [
        {
          "output_type": "stream",
          "name": "stdout",
          "text": [
            "60000\n",
            "10000\n"
          ]
        }
      ]
    },
    {
      "cell_type": "code",
      "source": [
        "# Flattening Xtrain & Xtest to a 2D array\n",
        "X_train_flattened=X_train.reshape(-1,784)\n",
        "X_test_flattened=X_test.reshape(-1,784)\n",
        "#Display the shape of flattened Xtrain & Xtest\n",
        "X_train_flattened.shape"
      ],
      "metadata": {
        "id": "HECQ2X0IObf9",
        "colab": {
          "base_uri": "https://localhost:8080/"
        },
        "outputId": "c870311b-d6c8-4f41-bf76-91de83b1fa4f"
      },
      "execution_count": null,
      "outputs": [
        {
          "output_type": "execute_result",
          "data": {
            "text/plain": [
              "(60000, 784)"
            ]
          },
          "metadata": {},
          "execution_count": 6
        }
      ]
    },
    {
      "cell_type": "code",
      "source": [
        "#Build the model \n",
        "model = keras.Sequential([keras.layers.Dense(10,activation='sigmoid')])\n",
        "\n",
        "# Apply 'adam' optimizer\n",
        "model.compile(optimizer='adam',loss='sparse_categorical_crossentropy',metrics=['accuracy'])\n",
        "\n",
        "# Train the model using fit(). Give epoch as 10\n",
        "model.fit(X_train_flattened,y_train,epochs=10)\n",
        "\n",
        "#Evaluate the model \n",
        "model.evaluate(X_test_flattened, y_test)\n",
        "\n",
        "#Predict the values for flattened test dataset\n",
        "y_predicted = model.predict(X_test_flattened)\n",
        "\n",
        "#Display the first row of y_predicted\n",
        "y_predicted[1]\n",
        "\n",
        "\n"
      ],
      "metadata": {
        "id": "kiksXHq_O2pA",
        "colab": {
          "base_uri": "https://localhost:8080/"
        },
        "outputId": "a8d0afda-dfc8-44f6-f6e2-5b1435fa1001"
      },
      "execution_count": null,
      "outputs": [
        {
          "output_type": "stream",
          "name": "stdout",
          "text": [
            "Epoch 1/10\n",
            "1875/1875 [==============================] - 5s 2ms/step - loss: 0.4686 - accuracy: 0.8757\n",
            "Epoch 2/10\n",
            "1875/1875 [==============================] - 6s 3ms/step - loss: 0.3028 - accuracy: 0.9154\n",
            "Epoch 3/10\n",
            "1875/1875 [==============================] - 5s 3ms/step - loss: 0.2828 - accuracy: 0.9204\n",
            "Epoch 4/10\n",
            "1875/1875 [==============================] - 3s 2ms/step - loss: 0.2727 - accuracy: 0.9241\n",
            "Epoch 5/10\n",
            "1875/1875 [==============================] - 3s 2ms/step - loss: 0.2661 - accuracy: 0.9257\n",
            "Epoch 6/10\n",
            "1875/1875 [==============================] - 3s 2ms/step - loss: 0.2616 - accuracy: 0.9275\n",
            "Epoch 7/10\n",
            "1875/1875 [==============================] - 3s 2ms/step - loss: 0.2580 - accuracy: 0.9278\n",
            "Epoch 8/10\n",
            "1875/1875 [==============================] - 5s 3ms/step - loss: 0.2550 - accuracy: 0.9290\n",
            "Epoch 9/10\n",
            "1875/1875 [==============================] - 7s 4ms/step - loss: 0.2531 - accuracy: 0.9294\n",
            "Epoch 10/10\n",
            "1875/1875 [==============================] - 6s 3ms/step - loss: 0.2509 - accuracy: 0.9312\n",
            "313/313 [==============================] - 1s 1ms/step - loss: 0.2682 - accuracy: 0.9262\n"
          ]
        },
        {
          "output_type": "execute_result",
          "data": {
            "text/plain": [
              "array([3.54846954e-01, 4.90453839e-03, 9.99725878e-01, 1.46192163e-01,\n",
              "       1.42736942e-11, 8.50151122e-01, 8.91904712e-01, 7.03319514e-16,\n",
              "       1.09118044e-01, 3.64656829e-12], dtype=float32)"
            ]
          },
          "metadata": {},
          "execution_count": 7
        }
      ]
    },
    {
      "cell_type": "code",
      "source": [
        "# Display the predicted value by applying argmax()\n",
        "np.argmax(y_predicted)\n",
        "\n",
        "#Confirm the prediction by displaying the corresponding pixel values using matshow() ir imshow()\n",
        "plt.matshow(X_test[1])\n",
        "\n"
      ],
      "metadata": {
        "id": "cjlESt3nn_3q"
      },
      "execution_count": null,
      "outputs": []
    },
    {
      "cell_type": "code",
      "source": [
        "#Display the predicted values  for test dataset. Display only first 5 predicted values\n",
        "yPredicted = model.predict(X_test_flattened)\n",
        "yPredicted[0]\n",
        "#Construct the Confusion Matrix \n",
        "yPredictedLabels = [np.argmax(i) for i in yPredicted]\n",
        "cm = tf.math.confusion_matrix(labels=y_test, predictions = yPredictedLabels)\n",
        "cm"
      ],
      "metadata": {
        "id": "EKPpIoPyoipF",
        "colab": {
          "base_uri": "https://localhost:8080/"
        },
        "outputId": "efa5352c-17e0-4be6-9e8b-29779848016d"
      },
      "execution_count": null,
      "outputs": [
        {
          "output_type": "execute_result",
          "data": {
            "text/plain": [
              "<tf.Tensor: shape=(10, 10), dtype=int32, numpy=\n",
              "array([[ 967,    0,    1,    2,    0,    4,    3,    2,    1,    0],\n",
              "       [   0, 1108,    3,    2,    0,    1,    5,    2,   14,    0],\n",
              "       [   9,    8,  921,   18,    8,    2,   12,    8,   43,    3],\n",
              "       [   4,    0,   18,  923,    1,   20,    2,    9,   26,    7],\n",
              "       [   2,    1,    4,    2,  927,    0,    9,    4,   10,   23],\n",
              "       [  11,    2,    1,   39,   10,  765,   16,    5,   37,    6],\n",
              "       [  12,    3,    7,    1,    7,   10,  914,    1,    3,    0],\n",
              "       [   2,    6,   23,   10,   10,    1,    0,  933,    3,   40],\n",
              "       [   7,    7,    6,   19,    9,   17,    8,    6,  886,    9],\n",
              "       [  11,    8,    1,    9,   35,    5,    0,   13,    9,  918]],\n",
              "      dtype=int32)>"
            ]
          },
          "metadata": {},
          "execution_count": 11
        }
      ]
    },
    {
      "cell_type": "code",
      "source": [
        "#Display confusion matrix using heatmap\n",
        "import seaborn as sn\n",
        "plt.figure(figsize = (10,7))\n",
        "sn.heatmap(cm, annot=True, fmt='d')\n",
        "plt.xlabel('Predicted')\n",
        "plt.ylabel('Truth')"
      ],
      "metadata": {
        "id": "fi-RWO8kq6tR",
        "colab": {
          "base_uri": "https://localhost:8080/",
          "height": 459
        },
        "outputId": "ac2f6952-05aa-43e0-b268-3257e6c0b447"
      },
      "execution_count": null,
      "outputs": [
        {
          "output_type": "execute_result",
          "data": {
            "text/plain": [
              "Text(69.0, 0.5, 'Truth')"
            ]
          },
          "metadata": {},
          "execution_count": 12
        },
        {
          "output_type": "display_data",
          "data": {
            "image/png": "[encoded data removed]",
            "text/plain": [
              "<Figure size 720x504 with 2 Axes>"
            ]
          },
          "metadata": {
            "needs_background": "light"
          }
        }
      ]
    },
    {
      "cell_type": "markdown",
      "source": [
        "USING HIDDEN LAYER"
      ],
      "metadata": {
        "id": "nroJ4N3arqQn"
      }
    },
    {
      "cell_type": "code",
      "source": [
        "model = keras.Sequential([\n",
        "    keras.layers.Dense(100,activation='relu'),\n",
        "    keras.layers.Dense(10, activation='sigmoid')\n",
        "])\n"
      ],
      "metadata": {
        "id": "h5dRCoV5rnti"
      },
      "execution_count": null,
      "outputs": []
    },
    {
      "cell_type": "code",
      "source": [
        "model.compile(optimizer='adam',\n",
        "              loss='sparse_categorical_crossentropy',\n",
        "              metrics=['accuracy'])\n"
      ],
      "metadata": {
        "id": "f5f6GRurr4QV"
      },
      "execution_count": null,
      "outputs": []
    },
    {
      "cell_type": "code",
      "source": [
        "model.fit(X_train_flattened, y_train, epochs=5)"
      ],
      "metadata": {
        "id": "SJwfH7BHr6OB",
        "colab": {
          "base_uri": "https://localhost:8080/"
        },
        "outputId": "6ec53bf7-89f9-46fb-d238-4211318ff906"
      },
      "execution_count": null,
      "outputs": [
        {
          "output_type": "stream",
          "name": "stdout",
          "text": [
            "Epoch 1/5\n",
            "1875/1875 [==============================] - 4s 2ms/step - loss: 0.2759 - accuracy: 0.9217\n",
            "Epoch 2/5\n",
            "1875/1875 [==============================] - 4s 2ms/step - loss: 0.1258 - accuracy: 0.9619\n",
            "Epoch 3/5\n",
            "1875/1875 [==============================] - 4s 2ms/step - loss: 0.0883 - accuracy: 0.9742\n",
            "Epoch 4/5\n",
            "1875/1875 [==============================] - 4s 2ms/step - loss: 0.0670 - accuracy: 0.9799\n",
            "Epoch 5/5\n",
            "1875/1875 [==============================] - 4s 2ms/step - loss: 0.0527 - accuracy: 0.9839\n"
          ]
        },
        {
          "output_type": "execute_result",
          "data": {
            "text/plain": [
              "<keras.callbacks.History at 0x7f8fbe26bd50>"
            ]
          },
          "metadata": {},
          "execution_count": 15
        }
      ]
    },
    {
      "cell_type": "code",
      "source": [
        "model.evaluate(X_test_flattened,y_test)"
      ],
      "metadata": {
        "id": "EVtF80GAsJLD",
        "colab": {
          "base_uri": "https://localhost:8080/"
        },
        "outputId": "20b65056-bf4c-44c4-c148-158c9d8fe950"
      },
      "execution_count": null,
      "outputs": [
        {
          "output_type": "stream",
          "name": "stdout",
          "text": [
            "313/313 [==============================] - 0s 1ms/step - loss: 0.0831 - accuracy: 0.9728\n"
          ]
        },
        {
          "output_type": "execute_result",
          "data": {
            "text/plain": [
              "[0.08308100700378418, 0.9728000164031982]"
            ]
          },
          "metadata": {},
          "execution_count": 17
        }
      ]
    },
    {
      "cell_type": "code",
      "source": [
        "y_predicted = model.predict(X_test_flattened)\n",
        "y_predicted"
      ],
      "metadata": {
        "id": "Q8F0laMjsSoG",
        "colab": {
          "base_uri": "https://localhost:8080/"
        },
        "outputId": "8c2d3b30-4b0e-4f09-8c02-d510a4d6425c"
      },
      "execution_count": null,
      "outputs": [
        {
          "output_type": "execute_result",
          "data": {
            "text/plain": [
              "array([[2.7470291e-03, 9.8264376e-05, 6.9509625e-02, ..., 9.9997854e-01,\n",
              "        2.0777166e-01, 1.6348162e-01],\n",
              "       [6.2189341e-02, 9.5641875e-01, 9.9998629e-01, ..., 4.5592156e-08,\n",
              "        4.9525359e-01, 2.4854257e-08],\n",
              "       [1.6140938e-03, 9.8949021e-01, 8.6237818e-02, ..., 2.6670134e-01,\n",
              "        3.3463070e-01, 8.2600117e-04],\n",
              "       ...,\n",
              "       [2.6048295e-07, 5.4158454e-06, 4.6846549e-06, ..., 9.6829849e-01,\n",
              "        1.1625704e-01, 9.5197463e-01],\n",
              "       [1.3220429e-02, 5.3649583e-06, 6.7448616e-04, ..., 4.7761202e-04,\n",
              "        9.9159765e-01, 3.0606985e-04],\n",
              "       [9.3359733e-01, 3.1404485e-05, 1.3394353e-01, ..., 2.3433216e-07,\n",
              "        9.8961592e-04, 3.8966537e-04]], dtype=float32)"
            ]
          },
          "metadata": {},
          "execution_count": 18
        }
      ]
    },
    {
      "cell_type": "code",
      "source": [
        "y_predicted_labels = [np.argmax(i) for i in y_predicted]\n"
      ],
      "metadata": {
        "id": "-zjzhi5cshW2"
      },
      "execution_count": null,
      "outputs": []
    },
    {
      "cell_type": "code",
      "source": [
        "y_predicted[0]"
      ],
      "metadata": {
        "id": "4d0Vcf6ks7uL",
        "colab": {
          "base_uri": "https://localhost:8080/"
        },
        "outputId": "250b6c17-4959-4f65-b83a-d379a0becd03"
      },
      "execution_count": null,
      "outputs": [
        {
          "output_type": "execute_result",
          "data": {
            "text/plain": [
              "array([2.7470291e-03, 9.8264376e-05, 6.9509625e-02, 9.1601360e-01,\n",
              "       9.0479853e-06, 2.3455888e-02, 6.1543403e-08, 9.9997854e-01,\n",
              "       2.0777166e-01, 1.6348162e-01], dtype=float32)"
            ]
          },
          "metadata": {},
          "execution_count": 20
        }
      ]
    },
    {
      "cell_type": "code",
      "source": [
        "np.argmax(y_predicted[0])"
      ],
      "metadata": {
        "id": "g-StqsZEtQXL",
        "colab": {
          "base_uri": "https://localhost:8080/"
        },
        "outputId": "256a426a-da9b-4642-d845-47020e4b7b44"
      },
      "execution_count": null,
      "outputs": [
        {
          "output_type": "execute_result",
          "data": {
            "text/plain": [
              "7"
            ]
          },
          "metadata": {},
          "execution_count": 21
        }
      ]
    },
    {
      "cell_type": "code",
      "source": [
        "y_predicted_labels = [np.argmax(i) for i in y_predicted]\n",
        "y_predicted_labels[:5]\n"
      ],
      "metadata": {
        "id": "iVNt7gECtdiZ",
        "colab": {
          "base_uri": "https://localhost:8080/"
        },
        "outputId": "cb7be656-76d1-47e2-8290-9795d2fab01d"
      },
      "execution_count": null,
      "outputs": [
        {
          "output_type": "execute_result",
          "data": {
            "text/plain": [
              "[7, 2, 1, 0, 4]"
            ]
          },
          "metadata": {},
          "execution_count": 22
        }
      ]
    },
    {
      "cell_type": "code",
      "source": [
        "plt.matshow(X_test[0])"
      ],
      "metadata": {
        "id": "al_TpD30tB4x",
        "colab": {
          "base_uri": "https://localhost:8080/",
          "height": 292
        },
        "outputId": "782ab14d-c6a4-4840-d1f3-266830c79eb9"
      },
      "execution_count": null,
      "outputs": [
        {
          "output_type": "execute_result",
          "data": {
            "text/plain": [
              "<matplotlib.image.AxesImage at 0x7f8fc0cf8f50>"
            ]
          },
          "metadata": {},
          "execution_count": 28
        },
        {
          "output_type": "display_data",
          "data": {
            "image/png": "[encoded data removed]",
            "text/plain": [
              "<Figure size 288x288 with 1 Axes>"
            ]
          },
          "metadata": {
            "needs_background": "light"
          }
        }
      ]
    },
    {
      "cell_type": "markdown",
      "source": [
        "USING FLATTEN LAYER TO CONVERT 2D to 1D"
      ],
      "metadata": {
        "id": "RSRDbxiTuKAi"
      }
    },
    {
      "cell_type": "code",
      "source": [
        "model = keras.Sequential([\n",
        "    keras.layers.Flatten(input_shape=(28, 28)),\n",
        "    keras.layers.Dense(100, activation='relu'),\n",
        "    keras.layers.Dense(10, activation='sigmoid')\n",
        "])\n"
      ],
      "metadata": {
        "id": "dF2IRZ1vuNmf"
      },
      "execution_count": null,
      "outputs": []
    },
    {
      "cell_type": "code",
      "source": [
        "model.compile(optimizer='adam',\n",
        "              loss='sparse_categorical_crossentropy',\n",
        "              metrics=['accuracy'])\n"
      ],
      "metadata": {
        "id": "eRdGVbtIueUf"
      },
      "execution_count": null,
      "outputs": []
    },
    {
      "cell_type": "code",
      "source": [
        "model.fit(X_train, y_train, epochs=10)"
      ],
      "metadata": {
        "id": "zb8tDyNnukYK",
        "colab": {
          "base_uri": "https://localhost:8080/"
        },
        "outputId": "5d368fa8-b2a8-4854-8d1d-cce4b2eaecc8"
      },
      "execution_count": null,
      "outputs": [
        {
          "output_type": "stream",
          "name": "stdout",
          "text": [
            "Epoch 1/10\n",
            "1875/1875 [==============================] - 6s 3ms/step - loss: 0.2730 - accuracy: 0.9229\n",
            "Epoch 2/10\n",
            "1875/1875 [==============================] - 4s 2ms/step - loss: 0.1238 - accuracy: 0.9632\n",
            "Epoch 3/10\n",
            "1875/1875 [==============================] - 4s 2ms/step - loss: 0.0874 - accuracy: 0.9739\n",
            "Epoch 4/10\n",
            "1875/1875 [==============================] - 4s 2ms/step - loss: 0.0657 - accuracy: 0.9795\n",
            "Epoch 5/10\n",
            "1875/1875 [==============================] - 4s 2ms/step - loss: 0.0515 - accuracy: 0.9843\n",
            "Epoch 6/10\n",
            "1875/1875 [==============================] - 4s 2ms/step - loss: 0.0417 - accuracy: 0.9875\n",
            "Epoch 7/10\n",
            "1875/1875 [==============================] - 4s 2ms/step - loss: 0.0343 - accuracy: 0.9895\n",
            "Epoch 8/10\n",
            "1875/1875 [==============================] - 4s 2ms/step - loss: 0.0285 - accuracy: 0.9914\n",
            "Epoch 9/10\n",
            "1875/1875 [==============================] - 4s 2ms/step - loss: 0.0227 - accuracy: 0.9931\n",
            "Epoch 10/10\n",
            "1875/1875 [==============================] - 4s 2ms/step - loss: 0.0195 - accuracy: 0.9937\n"
          ]
        },
        {
          "output_type": "execute_result",
          "data": {
            "text/plain": [
              "<keras.callbacks.History at 0x7f8fbed32710>"
            ]
          },
          "metadata": {},
          "execution_count": 25
        }
      ]
    },
    {
      "cell_type": "code",
      "source": [
        "model.evaluate(X_test,y_test)"
      ],
      "metadata": {
        "id": "kW7QfXFwuwo8",
        "colab": {
          "base_uri": "https://localhost:8080/"
        },
        "outputId": "506fd4a1-9009-40d9-8bde-c01460c6cc38"
      },
      "execution_count": null,
      "outputs": [
        {
          "output_type": "stream",
          "name": "stdout",
          "text": [
            "313/313 [==============================] - 1s 1ms/step - loss: 0.0823 - accuracy: 0.9771\n"
          ]
        },
        {
          "output_type": "execute_result",
          "data": {
            "text/plain": [
              "[0.08234710246324539, 0.9771000146865845]"
            ]
          },
          "metadata": {},
          "execution_count": 26
        }
      ]
    }
  ]
}